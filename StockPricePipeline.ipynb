{
 "cells": [
  {
   "cell_type": "code",
   "execution_count": 1,
   "id": "52b2fe51-9694-4917-b639-facf29236192",
   "metadata": {},
   "outputs": [
    {
     "name": "stdout",
     "output_type": "stream",
     "text": [
      "Stock price data extracted, transformed, and saved to 'stock_prices.csv'\n"
     ]
    }
   ],
   "source": [
    "import requests\n",
    "import pandas as pd\n",
    "\n",
    "# Replace with your API key and desired stock symbol\n",
    "API_KEY = \"7Q3I9JICE03V02PC\"\n",
    "STOCK_SYMBOL = \"AAPL\"\n",
    "\n",
    "# API endpoint URL (modify for your chosen API)\n",
    "url = f\"https://www.alphavantage.co/query?function=TIME_SERIES_DAILY&symbol={STOCK_SYMBOL}&apikey={API_KEY}\"\n",
    "\n",
    "# Make the API request\n",
    "response = requests.get(url)\n",
    "data = response.json()\n",
    "\n",
    "# Extract relevant data (modify based on API format)\n",
    "daily_prices = data[\"Time Series (Daily)\"]\n",
    "dates = list(daily_prices.keys())\n",
    "closing_prices = [float(price[\"4. close\"]) for price in daily_prices.values()]\n",
    "\n",
    "# Create a Pandas DataFrame\n",
    "stock_data = pd.DataFrame({\"Date\": dates, \"Close Price\": closing_prices})\n",
    "\n",
    "# Data transformation (e.g., calculate moving average)\n",
    "stock_data[\"Moving Average (50 days)\"] = stock_data[\"Close Price\"].rolling(window=50).mean()\n",
    "\n",
    "# Save data to CSV file\n",
    "stock_data.to_csv(\"stock_prices.csv\", index=False)\n",
    "\n",
    "print(\"Stock price data extracted, transformed, and saved to 'stock_prices.csv'\")\n"
   ]
  },
  {
   "cell_type": "code",
   "execution_count": null,
   "id": "43a17747-aae0-483e-9778-15f8b33dd750",
   "metadata": {},
   "outputs": [],
   "source": []
  }
 ],
 "metadata": {
  "kernelspec": {
   "display_name": "Python 3 (ipykernel)",
   "language": "python",
   "name": "python3"
  },
  "language_info": {
   "codemirror_mode": {
    "name": "ipython",
    "version": 3
   },
   "file_extension": ".py",
   "mimetype": "text/x-python",
   "name": "python",
   "nbconvert_exporter": "python",
   "pygments_lexer": "ipython3",
   "version": "3.10.11"
  }
 },
 "nbformat": 4,
 "nbformat_minor": 5
}
